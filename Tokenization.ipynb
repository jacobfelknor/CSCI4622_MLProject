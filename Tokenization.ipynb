{
 "cells": [
  {
   "cell_type": "code",
   "execution_count": 1,
   "id": "11b0dab1",
   "metadata": {},
   "outputs": [],
   "source": [
    "import pandas as pd\n",
    "from collections import Counter\n",
    "from sklearn.feature_extraction.text import TfidfVectorizer\n",
    "from scipy.sparse import save_npz"
   ]
  },
  {
   "cell_type": "code",
   "execution_count": 2,
   "id": "a51e2760",
   "metadata": {},
   "outputs": [
    {
     "name": "stdout",
     "output_type": "stream",
     "text": [
      "Processing snippets-all.csv...\n"
     ]
    }
   ],
   "source": [
    "# Extract top n words and full words from each file. Used for a stratified vocab and for documents to feed into tfidf\n",
    "def extract_words(filename, N):\n",
    "    print(f\"Processing {filename}...\")\n",
    "    df = pd.read_csv(filename)\n",
    "    # fill in missing values with an empty string\n",
    "    df = df.fillna(\"\")\n",
    "    top_words = [word for word, count in Counter(\" \".join(df[\"snippet\"]).lower().split()).most_common(N)]\n",
    "    words = df[\"snippet\"].tolist()\n",
    "    label = df[\"language\"].tolist()\n",
    "    return words, top_words, label\n",
    "\n",
    "#files = [\"snippets-bash.csv\", \"snippets-c.csv\", \"snippets-cpp.csv\", \"snippets-csv.csv\", \n",
    "#         \"snippets-dotfile.csv\", \"snippets-go.csv\", \"snippets-html.csv\", \"snippets-java.csv\", \"snippets-javascript.csv\",\n",
    "#         \"snippets-json.csv\"]\n",
    "files = [\"snippets-all.csv\"]\n",
    "\n",
    "# Loosely based off number of reserved keywords per language. Trying to upper bound to track most common keywords \n",
    "# and other common symbols in each language \n",
    "# https://stackoverflow.com/questions/4980766/reserved-keywords-count-by-programming-language\n",
    "N = 20\n",
    "\n",
    "vocabulary = []\n",
    "snippets = []\n",
    "labels = []\n",
    "for file in files:\n",
    "    snippet_list, vocab, label = extract_words(file, N)\n",
    "    vocabulary += vocab\n",
    "    snippets += snippet_list\n",
    "    labels += label\n",
    "\n",
    "vocabulary = list(set(vocabulary))"
   ]
  },
  {
   "cell_type": "code",
   "execution_count": 3,
   "id": "545a3337",
   "metadata": {},
   "outputs": [
    {
     "name": "stdout",
     "output_type": "stream",
     "text": [
      "['test/files/normalise.jpg.png\\ntest/files/normalise-resized.jpg\\npackage-lock.json\\n/package.json\\n*.mongodb\\n', 'a computer network, with no transfer of a copy, is not conveying.\\n\\n  An interactive user interface displays \"Appropriate Legal Notices\"\\nto the extent that it includes a convenient and prominently visible\\nfeature that (1) displays an appropriate copyright notice, and (2)\\n', 'the predecessor has it or can get it with reasonable efforts.\\n\\n  You may not impose any further restrictions on the exercise of the\\nrights granted or affirmed under this License.  For example, you may\\nnot impose a license fee, royalty, or other charge for exercise of\\n', '  THERE IS NO WARRANTY FOR THE PROGRAM, TO THE EXTENT PERMITTED BY\\nAPPLICABLE LAW.  EXCEPT WHEN OTHERWISE STATED IN WRITING THE COPYRIGHT\\nHOLDERS AND/OR OTHER PARTIES PROVIDE THE PROGRAM \"AS IS\" WITHOUT WARRANTY\\nOF ANY KIND, EITHER EXPRESSED OR IMPLIED, INCLUDING, BUT NOT LIMITED TO,\\nTHE IMPLIED WARRANTIES OF MERCHANTABILITY AND FITNESS FOR A PARTICULAR\\n', \"const nconf = require('nconf');\\n\\nconst db = require('./mocks/databasemock');\\nconst helpers = require('./helpers');\\nconst Groups = require('../src/groups');\\n\"]\n",
      "['},', '+', '-', '}', '{']\n"
     ]
    }
   ],
   "source": [
    "print(snippets[:5])\n",
    "print(vocabulary[:5])"
   ]
  },
  {
   "cell_type": "code",
   "execution_count": 4,
   "id": "55bfea9f",
   "metadata": {},
   "outputs": [
    {
     "name": "stdout",
     "output_type": "stream",
     "text": [
      "['#', '# #', '# ,', '# :', '# <', '# =', '# >', '# [', '# ]', '# define', '# else', '# endif', '# if', '# ifdef', '# ifndef', '# include', '# integrity', '# module', '# {', '# }', ',', ', #', ', ,', ', //', ', :', ', <', ', =', ', >', ', [', ', ]', ', _', ', a', ', and', ', arch_db', ', args', ', author', ', b', ', bing', ', bing_en', ', bool', ', but', ', c', ', class', ', column', ', const', ', ctxt', ', d', ', data', ', decl', ', description', ', dev', ', e', ', either', ', end', ', err', ', error', ', f', ', false', ', field_description', ', function', ', g', ', google', ', h', ', help', ', hi', ', i', ', id', ', if', ', in', ', including', ', int', ', integrity', ', it', ', key', ', l', ', len', ', like', ', lo', ', long', ', m', ', n', ', name', ', new', ', nil', ', null', ', o', ', object', ', offset', ', omitempty', ', optional', ', options', ', or', ', out', ', p', ', paragraphs', ', path', ', python', ', r', ', requires', ', resolved', ', s', ', sc_', ', self', ', size', ', size_t', ', sizeof', ', so', ', software', ', source', ', span', ', std', ', string', ', struct', ', t', ', test', ', the', ', then', ', this', ', title', ', to', ', true', ', type', ', typename', ', u', ', uintptr', ', unsigned', ', v', ', value', ', version', ', void', ', w', ', we', ', which', ', without', ', x', ', y', ', you', ', {', ', }', '//', '// //', '// <', '// a', '// check', '// copyright', '// github', '// if', '// registry', '// the', '// this', '// www', ':', ': #', ': ,', ': //', ': :', ': <', ': =', ': >', ': [', ': ]', ': a', ': account', ': addons', ': any', ': array', ': base', ': before', ': boolean', ': case', ': code', ': d', ': editor', ': false', ': function', ': https', ': if', ': int', ': ir', ': mail', ': model', ': model_terms', ': msgid', ': n', ': name', ': none', ': null', ': number', ': result_of', ': return', ': s', ': self', ': static', ': stock', ': string', ': symbol', ': t', ': the', ': this', ': true', ': type', ': value', ': vector', ': version', ': void', ': x', ': {', ': }', '<', '< ,', '< :', '< <', '< =', '< >', '< [', '< _', '< a', '< annotation', '< b', '< boost', '< br', '< class', '< code', '< data', '< div', '< field', '< glyph', '< hkern', '< i', '< int', '< item', '< key', '< li', '< line', '< link', '< linux', '< message', '< p', '< path', '< point', '< s', '< script', '< source', '< span', '< std', '< string', '< strong', '< summary', '< t', '< target', '< td', '< title', '< tr', '< trans', '< translation', '< typename', '< ul', '< val', '< value', '< xsd', '< {', '=', '= #', '= ,', '= //', '= :', '= <', '= =', '= >', '= [', '= a', '= await', '= b', '= c', '= d', '= data', '= dependencies', '= e', '= f', '= false', '= function', '= http', '= https', '= i', '= if', '= int', '= k', '= l', '= m', '= n', '= name', '= new', '= nil', '= none', '= null', '= o', '= object', '= p', '= r', '= range', '= require', '= return', '= s', '= self', '= string', '= t', '= text', '= this', '= true', '= type', '= undefined', '= v', '= value', '= x', '= y', '= yes', '= {', '= }', '>', '> #', '> ,', '> //', '> :', '> <', '> =', '> >', '> [', '> ]', '> a', '> dev', '> n', '> struct', '> the', '> this', '> void', '> {', '> }', '[', '[ #', '[ ,', '[ :', '[ [', '[ ]', '[ a', '[ i', '[ j', '[ string', '[ {', ']', '] #', '] ,', '] //', '] :', '] <', '] =', '] >', '] [', '] ]', '] byte', '] https', '] if', '] n', '] string', '] {', '] }', '_', '_ ,', '_ =', '_ >', '__', '__webpack_require__', 'a', 'a ,', 'a :', 'a =', 'a >', 'a [', 'a a', 'a class', 'a copy', 'a href', 'a new', 'a {', 'a }', 'about', 'above', 'access', 'account', 'action', 'actions', 'active', 'actual', 'add', 'added', 'additional', 'addons', 'addr', 'address', 'after', 'agreed', 'agreed to', 'align', 'all', 'all rights', 'allow', 'already', 'also', 'always', 'amp', 'an', 'an as', 'an error', 'and', 'and limitations', 'and or', 'and the', 'android', 'annotation', 'any', 'any kind', 'apache', 'apache license', 'apache org', 'api', 'app', 'append', 'applicable', 'applicable law', 'application', 'apply', 'arch_db', 'arch_db :', 'are', 'arg', 'args', 'argument', 'arguments', 'array', 'as', 'as a', 'as is', 'as the', 'assert', 'assert equal', 'assertequal', 'assertequals', 'assertequals ,', 'assertthat', 'async', 'at', 'at http', 'at the', 'attr', 'attribute', 'attributes', 'author', 'author :', 'authors', 'auto', 'available', 'await', 'b', 'b ,', 'b :', 'b <', 'b =', 'b >', 'b [', 'b {', 'babel', 'babel plugin', 'back', 'background', 'background color', 'baidu', 'baidu :', 'bar', 'base', 'based', 'basis', 'basis ,', 'be', 'be used', 'because', 'been', 'before', 'before {', 'begin', 'being', 'between', 'bin', 'binary', 'bind', 'bing', 'bing :', 'bing_en', 'bing_en :', 'bit', 'bits', 'block', 'body', 'bold', 'bool', 'boolean', 'boost', 'boost :', 'border', 'both', 'bottom', 'box', 'br', 'br >', 'break', 'break case', 'break }', 'browser', 'btn', 'buf', 'buffer', 'build', 'builder', 'but', 'button', 'by', 'by applicable', 'by the', 'byte', 'byte ,', 'bytes', 'c', 'c ,', 'c :', 'c =', 'c >', 'c [', 'c {', 'cache', 'call', 'callback', 'called', 'calls', 'can', 'can be', 'cannot', 'case', 'case :', 'cases', 'cat', 'catch', 'category', 'cc', 'cdata', 'center', 'ch', 'change', 'changed', 'changes', 'channel', 'char', 'character', 'check', 'child', 'children', 'chrome', 'cjk', 'class', 'class ,', 'class =', 'classes', 'classname', 'clear', 'click', 'client', 'close', 'cluster', 'cmd', 'code', 'code :', 'code >', 'code is', 'col', 'collection', 'color', 'color :', 'column', 'column :', 'columns', 'com', 'com ,', 'com >', 'com facebook', 'com google', 'com intellij', 'command', 'comment', 'comment >', 'commit', 'common', 'compare', 'compiler', 'compliance', 'compliance with', 'component', 'components', 'condition', 'conditions', 'conditions of', 'conf', 'config', 'configuration', 'connection', 'console', 'const', 'const ,', 'const =', 'const char', 'const std', 'const {', 'constant', 'constructor', 'container', 'contains', 'content', 'content :', 'context', 'context ,', 'continue', 'control', 'controller', 'convert', 'copy', 'copy of', 'copyright', 'copyright c', 'copyright the', 'core', 'could', 'count', 'cp', 'cpp', 'cpu', 'create', 'create a', 'created', 'crypto', 'css', 'ctx', 'ctx ,', 'ctxt', 'ctxt :', 'current', 'cursor', 'custom', 'd', 'd ,', 'd :', 'd =', 'data', 'data ,', 'data :', 'data =', 'data >', 'data [', 'database', 'date', 'db', 'dd', 'de', 'debug', 'decl', 'declare', 'def', 'default', 'default :', 'defaults', 'define', 'define #', 'defined', 'definition', 'delete', 'dependencies', 'dependencies :', 'deprecated', 'desc', 'describe', 'description', 'description :', 'descriptor', 'detail', 'detail :', 'details', 'dev', 'dev ,', 'dev :', 'device', 'dict', 'different', 'dim', 'dir', 'directory', 'disable', 'disabled', 'display', 'display :', 'distributed', 'distributed on', 'distributed under', 'div', 'div >', 'div class', 'do', 'do not', 'doc', 'docs', 'document', 'documentation', 'does', 'does not', 'doesn', 'doesn t', 'dom', 'domain', 'don', 'don t', 'done', 'double', 'driver', 'dst', 'dtype', 'duration', 'e', 'e ,', 'e =', 'e g', 'e {', 'e }', 'each', 'echo', 'edit', 'editor', 'either', 'either express', 'el', 'elasticsearch', 'elem', 'element', 'elements', 'else', 'else if', 'else {', 'email', 'empty', 'en', 'enable', 'enabled', 'encoding', 'end', 'end :', 'endif', 'endif #', 'engine', 'entity', 'entry', 'enum', 'env', 'environment', 'eq', 'equal', 'equals', 'err', 'err :', 'err =', 'err error', 'err }', 'errno', 'error', 'error ,', 'error :', 'error {', 'errorf', 'errors', 'eval', 'even', 'event', 'events', 'example', 'except', 'except in', 'exception', 'execute', 'exists', 'exit', 'expect', 'expected', 'expected :', 'export', 'exports', 'expr', 'express', 'express or', 'expression', 'extends', 'extension', 'extensions', 'extern', 'f', 'f ,', 'f =', 'f [', 'fa', 'facebook', 'factory', 'fail', 'failed', 'false', 'false ,', 'false }', 'fd', 'feature', 'features', 'fi', 'field', 'field_description', 'field_description :', 'fields', 'fields ,', 'file', 'file ,', 'file except', 'file is', 'filename', 'filename =', 'files', 'fill', 'filter', 'final', 'find', 'first', 'fix', 'flag', 'flags', 'flex', 'float', 'fmt', 'fn', 'focus', 'following', 'font', 'font patcher', 'font size', 'fontawesome', 'fontawesomeextension', 'fontlinux', 'foo', 'foo ,', 'for', 'for a', 'for i', 'for int', 'for the', 'for var', 'foreach', 'form', 'format', 'format msgid', 'found', 'found in', 'foundation', 'frame', 'framework', 'free', 'from', 'from the', 'fs', 'full', 'fun', 'func', 'function', 'function e', 'function {', 'functions', 'fusion', 'fusion :', 'g', 'g ,', 'gecko', 'general', 'generated', 'generated by', 'get', 'git', 'github', 'github com', 'given', 'global', 'glyph', 'glyphs', 'go', 'go mod', 'google', 'google :', 'goto', 'governing', 'governing permissions', 'graph', 'grid', 'group', 'gt', 'h', 'h #', 'h ,', 'h >', 'hadoop', 'handle', 'handler', 'has', 'has been', 'hash', 'have', 'head', 'header', 'headers', 'height', 'height :', 'height =', 'hello', 'help', 'help :', 'helper', 'here', 'hi', 'hi :', 'hidden', 'hkern', 'hkern =', 'host', 'how', 'hpp', 'hpp >', 'href', 'href =', 'html', 'html #', 'html >', 'http', 'http :', 'https', 'https :', 'i', 'i ,', 'i :', 'i <', 'i =', 'i >', 'i ]', 'i {', 'icon', 'id', 'id ,', 'id :', 'id =', 'identifier', 'idx', 'if', 'if =', 'if a', 'if defined', 'if err', 'if it', 'if len', 'if not', 'if the', 'if this', 'if you', 'ifdef', 'ifndef', 'ignore', 'image', 'images', 'img', 'impl', 'implementation', 'implements', 'implied', 'implied see', 'import', 'import com', 'import java', 'import org', 'import {', 'important', 'in', 'in a', 'in compliance', 'in the', 'in this', 'in writing', 'inc', 'include', 'include <', 'including', 'index', 'index :', 'index =', 'info', 'information', 'init', 'inline', 'input', 'inputs', 'insert', 'install', 'instance', 'instanceof', 'instead', 'int', 'int ,', 'int >', 'int i', 'integer', 'integrity', 'integrity :', 'integrity =', 'intellij', 'interface', 'interface {', 'internal', 'into', 'invalid', 'io', 'ioexception', 'ip', 'ir', 'ir model', 'ir ui', 'is', 'is a', 'is basis', 'is distributed', 'is not', 'is the', 'is used', 'isolate', 'issue', 'issues', 'it', 'it is', 'it s', 'it should', 'item', 'item >', 'items', 'iter', 'iterator', 'its', 'j', 'j =', 'java', 'java util', 'javascript', 'jest', 'job', 'join', 'jquery', 'js', 'js :', 'json', 'json :', 'jsx', 'just', 'k', 'k ,', 'k =', 'key', 'key ,', 'key :', 'key =', 'key >', 'keys', 'keyword', 'kind', 'kind ,', 'kind :', 'l', 'l ,', 'l =', 'la', 'label', 'labels', 'lang', 'language', 'language governing', 'last', 'law', 'law or', 'layer', 'layout', 'left', 'left :', 'len', 'length', 'length ,', 'length =', 'let', 'level', 'li', 'li >', 'li class', 'lib', 'library', 'license', 'license ,', 'license at', 'license file', 'license for', 'license is', 'license you', 'licensed', 'licensed under', 'licenses', 'licenses license', 'like', 'limit', 'limitations', 'limitations under', 'line', 'line :', 'line =', 'lines', 'link', 'linux', 'list', 'list <', 'list of', 'listener', 'lo', 'lo :', 'load', 'loc', 'local', 'location', 'lock', 'log', 'logger', 'long', 'loop', 'lt', 'm', 'm ,', 'm =', 'mail', 'main', 'make', 'map', 'map [', 'margin', 'mask', 'master', 'match', 'matches', 'material', 'material font', 'math', 'max', 'may', 'may be', 'may not', 'may obtain', 'md', 'media', 'member', 'memory', 'menu', 'merge', 'message', 'message :', 'message >', 'messages', 'meta', 'metadata', 'method', 'methods', 'microsoft', 'min', 'mm', 'mock', 'mod', 'mod :', 'mode', 'model', 'model :', 'model fields', 'model_terms', 'model_terms :', 'models', 'modify', 'module', 'module ,', 'module :', 'modules', 'more', 'mov', 'move', 'mozilla', 'ms', 'msg', 'msgid', 'msgstr', 'msgstr #', 'msgstr msgid', 'multiple', 'must', 'must be', 'my', 'n', 'n ,', 'n :', 'n <', 'n =', 'n n', 'n t', 'n {', 'n }', 'name', 'name ,', 'name :', 'name =', 'name >', 'name of', 'name }', 'names', 'namespace', 'nav', 'need', 'need to', 'net', 'network', 'new', 'next', 'nil', 'nil ,', 'nil {', 'nil }', 'no', 'node', 'node ,', 'nodes', 'non', 'none', 'none ,', 'none :', 'normal', 'not', 'not be', 'not use', 'note', 'note :', 'notice', 'notnull', 'now', 'np', 'npm', 'npmjs', 'npmjs org', 'ns', 'null', 'null ,', 'null {', 'null }', 'nullable', 'nullptr', 'num', 'number', 'number ,', 'number of', 'o', 'o ,', 'o =', 'obj', 'object', 'object ,', 'objects', 'obtain', 'obtain a', 'octicons', 'of', 'of a', 'of any', 'of the', 'of this', 'off', 'offset', 'ok', 'omitempty', 'on', 'on an', 'on the', 'once', 'one', 'only', 'op', 'opacity', 'open', 'openerp', 'operation', 'operator', 'opt', 'option', 'optional', 'optional :', 'options', 'options :', 'opts', 'or', 'or agreed', 'or conditions', 'or implied', 'or more', 'order', 'org', 'org apache', 'org licenses', 'origin', 'original', 'os', 'other', 'otherwise', 'our', 'out', 'output', 'over', 'override', 'override public', 'owner', 'p', 'p ,', 'p =', 'p >', 'package', 'pad', 'padding', 'page', 'pair', 'paragraphs', 'paragraphs :', 'param', 'param {', 'parameter', 'parameters', 'params', 'parent', 'parse', 'parser', 'part', 'particular', 'pass', 'passed', 'password', 'patcher', 'path', 'path ,', 'path :', 'path =', 'pattern', 'per', 'permission', 'permissions', 'permissions and', 'php', 'pkg', 'platform', 'please', 'plugin', 'plugins', 'png', 'point', 'point x', 'pointer', 'policy', 'pomicons', 'port', 'pos', 'position', 'position :', 'post', 'powerlineextra', 'powersymbols', 'pre', 'prefix', 'primary', 'print', 'priv', 'private', 'private final', 'private static', 'process', 'product', 'program', 'progress', 'project', 'promise', 'prop', 'properties', 'property', 'props', 'protected', 'proto', 'proto :', 'protobuf', 'protocol', 'prototype', 'provided', 'ptr', 'public', 'public :', 'public class', 'public function', 'public license', 'public static', 'public void', 'pull', 'purpose', 'push', 'put', 'py', 'py :', 'python', 'python format', 'q', 'query', 'queue', 'r', 'r ,', 'r =', 'random', 'range', 'raw', 'rc', 're', 'react', 'read', 'reader', 'readonly', 'record', 'rects', 'ref', 'reference', 'reflect', 'reg', 'regex', 'region', 'register', 'registry', 'registry npmjs', 'registry yarnpkg', 'reject', 'rel', 'rel =', 'release', 'remote', 'remove', 'render', 'replace', 'report', 'req', 'request', 'require', 'required', 'required by', 'requires', 'requires :', 'res', 'reserved', 'reset', 'resolve', 'resolved', 'resolved :', 'resolved https', 'resource', 'resources', 'resp', 'response', 'result', 'result =', 'result_of', 'result_of :', 'results', 'ret', 'ret =', 'return', 'return a', 'return err', 'return false', 'return new', 'return nil', 'return null', 'return the', 'return this', 'return true', 'return {', 'return }', 'returned', 'returns', 'returns the', 'rgb', 'rgb ,', 'right', 'right :', 'rights', 'rights reserved', 'role', 'root', 'row', 'rows', 'rule', 'rules', 'run', 'running', 'runtime', 's', 's ,', 's :', 's =', 's >', 's [', 'same', 'save', 'sc_', 'sc_ ,', 'sc_ }', 'scale', 'schema', 'scope', 'script', 'script >', 'search', 'second', 'section', 'see', 'see the', 'select', 'selection', 'selector', 'self', 'self ,', 'self :', 'send', 'sentry', 'sequence', 'server', 'service', 'session', 'set', 'set to', 'sets', 'setting', 'settings', 'setup', 'sh', 'shall', 'shape', 'shared', 'shift', 'short', 'should', 'should be', 'show', 'side', 'since', 'single', 'single width', 'size', 'size ,', 'size :', 'size =', 'size_t', 'sizeof', 'skip', 'slice', 'sm', 'small', 'so', 'software', 'some', 'sort', 'source', 'source :', 'source >', 'source code', 'space', 'span', 'span :', 'span >', 'span class', 'spec', 'special', 'specific', 'specific language', 'specified', 'split', 'sql', 'src', 'src =', 'st', 'stack', 'start', 'start :', 'state', 'state =', 'static', 'static const', 'static final', 'static int', 'static src', 'static void', 'static_cast', 'static_cast <', 'stats', 'status', 'status =', 'std', 'std :', 'step', 'stock', 'stop', 'storage', 'store', 'str', 'strains', 'strains :', 'stream', 'strict', 'string', 'string ,', 'string :', 'string >', 'string [', 'string ]', 'string name', 'string {', 'string }', 'strings', 'stroke', 'strong', 'strong >', 'struct', 'struct {', 'style', 'style =', 'sub', 'subject', 'success', 'such', 'suffix', 'sum', 'summary', 'summary >', 'super', 'support', 'supported', 'svg', 'swift', 'switch', 'symbol', 'syntax', 'sys', 'syscall', 'system', 't', 't ,', 't :', 't =', 't >', 't [', 't {', 'table', 'tag', 'tags', 'target', 'task', 'td', 'td >', 'template', 'template <', 'tensor', 'tensorflow', 'terms', 'test', 'testing', 'tests', 'text', 'text :', 'tf', 'tgz', 'tgz #', 'tgz ,', 'th', 'than', 'that', 'that the', 'the', 'the //', 'the apache', 'the current', 'the default', 'the first', 'the following', 'the given', 'the license', 'the number', 'the same', 'the software', 'the specific', 'the value', 'their', 'them', 'theme', 'then', 'there', 'there is', 'these', 'they', 'this', 'this ,', 'this >', 'this file', 'this is', 'this software', 'this source', 'this }', 'thread', 'through', 'throw', 'throw new', 'throws', 'time', 'timeout', 'timestamp', 'title', 'title :', 'title =', 'title >', 'tmp', 'to', 'to a', 'to be', 'to in', 'to the', 'to use', 'tobe', 'todo', 'token', 'tools', 'top', 'top :', 'tostring', 'total', 'tr', 'tr >', 'trans', 'trans unit', 'transform', 'translation', 'translation >', 'tree', 'true', 'true ,', 'true if', 'true }', 'try', 'try {', 'ts', 'ts ,', 'ttf', 'ttf use', 'two', 'txt', 'type', 'type ,', 'type :', 'type =', 'type >', 'type {', 'typedef', 'typedef typename', 'typename', 'typename ,', 'typename detail', 'typename proto', 'typeof', 'types', 'u', 'u ,', 'ui', 'ui view', 'uintptr', 'ul', 'undefined', 'under', 'under the', 'unicode', 'unicode =', 'unit', 'unknown', 'unless', 'unless required', 'unsafe', 'unsigned', 'unsigned int', 'unsigned long', 'up', 'update', 'uri', 'url', 'url :', 'us', 'usage', 'use', 'use of', 'use single', 'use the', 'use this', 'used', 'used to', 'user', 'username', 'users', 'using', 'utf', 'util', 'utils', 'v', 'v ,', 'v =', 'val', 'val >', 'valid', 'value', 'value ,', 'value :', 'value =', 'value >', 'value {', 'value }', 'values', 'var', 'var =', 'variable', 'variables', 'vector', 'vector <', 'version', 'version :', 'version resolved', 'version the', 'view', 'view ,', 'views', 'virtual', 'void', 'void {', 'vs', 'w', 'w ,', 'want', 'warning', 'warranties', 'warranties or', 'was', 'we', 'weather', 'web', 'website', 'weight', 'what', 'when', 'when the', 'where', 'whether', 'which', 'while', 'width', 'width :', 'width =', 'width glyphs', 'will', 'will be', 'window', 'windows', 'with', 'with a', 'with the', 'with this', 'within', 'without', 'without warranties', 'word', 'work', 'would', 'wrapper', 'write', 'writing', 'writing ,', 'www', 'www apache', 'x', 'x ,', 'x :', 'x =', 'x x', 'xml', 'xml :', 'xs', 'xsd', 'xsd :', 'y', 'y ,', 'y :', 'y =', 'yarnpkg', 'yarnpkg com', 'yes', 'you', 'you can', 'you may', 'your', 'z', 'zero', '{', '{ #', '{ ,', '{ //', '{ :', '{ =', '{ [', '{ a', '{ author', '{ baidu', '{ case', '{ code', '{ color', '{ const', '{ content', '{ for', '{ id', '{ if', '{ int', '{ line', '{ link', '{ n', '{ name', '{ public', '{ return', '{ sc_', '{ start', '{ strains', '{ string', '{ struct', '{ t', '{ this', '{ throw', '{ type', '{ value', '{ var', '{ version', '{ x', '{ {', '{ }', '}', '} #', '} ,', '} //', '} :', '} <', '} =', '} >', '} [', '} ]', '} catch', '} const', '} else', '} for', '} from', '} func', '} function', '} if', '} it', '} n', '} override', '} private', '} public', '} return', '} static', '} template', '} test', '} this', '} var', '} void', '} {', '} }']\n"
     ]
    }
   ],
   "source": [
    "#vectorizer = TfidfVectorizer(vocabulary=vocabulary)\n",
    "vectorizer = TfidfVectorizer(max_features = 2000, ngram_range=(1, 2), token_pattern=r\"(?u)\\b[A-Za-z_]+\\b|[:={}<>,#\\[\\]]|\\/\\/\")\n",
    "X = vectorizer.fit_transform(snippets)\n",
    "# Lots of garbage in our features, e.g. '2', 'sherlock', '\"\",', 'carolina,south', '\"仄仄平平仄，平平仄仄平\"'\n",
    "# Could be improved by creating smarter tokens, or engineering the vocabulary a bit more. \n",
    "print(vectorizer.get_feature_names())"
   ]
  },
  {
   "cell_type": "code",
   "execution_count": 5,
   "id": "ccaf90da",
   "metadata": {},
   "outputs": [
    {
     "name": "stdout",
     "output_type": "stream",
     "text": [
      "  (0, 1066)\t0.47470589174780514\n",
      "  (0, 1141)\t0.279891465032747\n",
      "  (0, 1338)\t0.4686902798875368\n",
      "  (0, 1374)\t0.27899257312562403\n",
      "  (0, 832)\t0.5011637762686464\n",
      "  (0, 1687)\t0.384242786760636\n",
      "  (1, 32)\t0.18750004474974924\n",
      "  (1, 1747)\t0.17067121298392426\n",
      "  (1, 1039)\t0.19500518284010737\n",
      "  (1, 379)\t0.20524657702045762\n",
      "  (1, 1286)\t0.21333608196990453\n",
      "  (1, 1257)\t0.22379986709406727\n",
      "  (1, 632)\t0.17481493705391907\n",
      "  (1, 818)\t0.22505795355685101\n",
      "  (1, 412)\t0.25253409657512443\n",
      "  (1, 1045)\t0.14853050659823494\n",
      "  (1, 1698)\t0.29746433736206307\n",
      "  (1, 1700)\t0.09722356526056666\n",
      "  (1, 1743)\t0.10965996927271528\n",
      "  (1, 1024)\t0.18987849526072975\n",
      "  (1, 1824)\t0.18554714274279882\n",
      "  (1, 409)\t0.3066271885289884\n",
      "  (1, 1252)\t0.13824736166210957\n",
      "  (1, 1035)\t0.11924662887414295\n",
      "  (1, 630)\t0.18430431201418968\n",
      "  :\t:\n",
      "  (4849997, 1999)\t0.16576618189484785\n",
      "  (4849997, 1968)\t0.17260997387559635\n",
      "  (4849997, 151)\t0.0790050162584248\n",
      "  (4849997, 1928)\t0.08336638719277914\n",
      "  (4849997, 20)\t0.07020606939093695\n",
      "  (4849998, 990)\t0.40947489269479365\n",
      "  (4849998, 473)\t0.4058739447460203\n",
      "  (4849998, 1651)\t0.3914023837116564\n",
      "  (4849998, 583)\t0.3351034747083533\n",
      "  (4849998, 152)\t0.2870588118570823\n",
      "  (4849998, 582)\t0.3082008257020494\n",
      "  (4849998, 0)\t0.16736738366771897\n",
      "  (4849998, 472)\t0.35629704544337804\n",
      "  (4849998, 1968)\t0.2198847576486153\n",
      "  (4849998, 151)\t0.10064307677567354\n",
      "  (4849998, 1928)\t0.10619894918202352\n",
      "  (4849999, 990)\t0.4563635078156642\n",
      "  (4849999, 506)\t0.6142265253762506\n",
      "  (4849999, 583)\t0.3734758832041725\n",
      "  (4849999, 152)\t0.31992966764421243\n",
      "  (4849999, 582)\t0.3434926351733793\n",
      "  (4849999, 0)\t0.18653247773474904\n",
      "  (4849999, 1968)\t0.061265892674959584\n",
      "  (4849999, 151)\t0.1121676282822592\n",
      "  (4849999, 1928)\t0.059179849411633956\n",
      "         0   1   2   3   4   5   6   7   8   9   ...  11  12  13  14  15  16  \\\n",
      "0         0   0   0   0   0   0   0   0   0   0  ...   0   0   0   0   0   1   \n",
      "1         1   0   0   0   0   0   0   0   0   0  ...   0   0   0   0   0   0   \n",
      "2         1   0   0   0   0   0   0   0   0   0  ...   0   0   0   0   0   0   \n",
      "3         1   0   0   0   0   0   0   0   0   0  ...   0   0   0   0   0   0   \n",
      "4         0   0   0   0   0   0   0   1   0   0  ...   0   0   0   0   0   0   \n",
      "...      ..  ..  ..  ..  ..  ..  ..  ..  ..  ..  ...  ..  ..  ..  ..  ..  ..   \n",
      "4849995   1   0   0   0   0   0   0   0   0   0  ...   0   0   0   0   0   0   \n",
      "4849996   1   0   0   0   0   0   0   0   0   0  ...   0   0   0   0   0   0   \n",
      "4849997   1   0   0   0   0   0   0   0   0   0  ...   0   0   0   0   0   0   \n",
      "4849998   1   0   0   0   0   0   0   0   0   0  ...   0   0   0   0   0   0   \n",
      "4849999   1   0   0   0   0   0   0   0   0   0  ...   0   0   0   0   0   0   \n",
      "\n",
      "         17  18  19  20  \n",
      "0         0   0   0   0  \n",
      "1         0   0   0   0  \n",
      "2         0   0   0   0  \n",
      "3         0   0   0   0  \n",
      "4         0   0   0   0  \n",
      "...      ..  ..  ..  ..  \n",
      "4849995   0   0   0   0  \n",
      "4849996   0   0   0   0  \n",
      "4849997   0   0   0   0  \n",
      "4849998   0   0   0   0  \n",
      "4849999   0   0   0   0  \n",
      "\n",
      "[4850000 rows x 21 columns]\n",
      "4850000\n",
      "4850000\n"
     ]
    }
   ],
   "source": [
    "languages = list(set(labels))\n",
    "encoding = { language: number for language, number in zip(languages, range(len(languages)))}\n",
    "# One-hot encode the language\n",
    "y = pd.get_dummies(map(lambda x: encoding[x], labels))\n",
    "print(X)\n",
    "print(y)\n",
    "\n",
    "print(X.shape[0])\n",
    "print(len(y))"
   ]
  },
  {
   "cell_type": "code",
   "execution_count": 7,
   "id": "d4d46789",
   "metadata": {},
   "outputs": [],
   "source": [
    "# Save data in csv files\n",
    "save_npz(\"X\", X)\n",
    "y.to_pickle(\"y.pcl\")"
   ]
  },
  {
   "cell_type": "markdown",
   "id": "0eceec36",
   "metadata": {},
   "source": [
    "## Section to test results of feature engineering on accuarcy for LR"
   ]
  },
  {
   "cell_type": "code",
   "execution_count": 6,
   "id": "72925bff",
   "metadata": {},
   "outputs": [
    {
     "name": "stdout",
     "output_type": "stream",
     "text": [
      "4727681\n"
     ]
    }
   ],
   "source": [
    "# 90% of rows have at least one entry \n",
    "rows, cols = X.nonzero()\n",
    "print(len(list(set(rows.tolist()))))\n",
    "# Remove empty rows from dataset\n",
    "# y = y[X.getnnz(1)>0]\n",
    "# X = X[X.getnnz(1)>0]"
   ]
  },
  {
   "cell_type": "code",
   "execution_count": 7,
   "id": "e4025687",
   "metadata": {},
   "outputs": [],
   "source": [
    "import pandas as pd\n",
    "from scipy.sparse import load_npz, hstack\n",
    "from sklearn.model_selection import train_test_split\n",
    "from sklearn.tree import DecisionTreeClassifier\n",
    "from sklearn.linear_model import LogisticRegression\n",
    "from sklearn.metrics import accuracy_score"
   ]
  },
  {
   "cell_type": "code",
   "execution_count": 8,
   "id": "bf3eb2c6",
   "metadata": {},
   "outputs": [],
   "source": [
    "X_train, X_test, y_train, y_test = train_test_split(X, y, test_size=0.2)"
   ]
  },
  {
   "cell_type": "code",
   "execution_count": 10,
   "id": "6eaf4122",
   "metadata": {},
   "outputs": [
    {
     "name": "stderr",
     "output_type": "stream",
     "text": [
      "[Parallel(n_jobs=-1)]: Using backend ThreadingBackend with 4 concurrent workers.\n"
     ]
    },
    {
     "name": "stdout",
     "output_type": "stream",
     "text": [
      "convergence after 18 epochs took 232 seconds\n",
      "convergence after 18 epochs took 536 seconds\n",
      "convergence after 19 epochs took 571 seconds\n",
      "convergence after 49 epochs took 732 seconds\n",
      "convergence after 20 epochs took 614 seconds\n",
      "convergence after 19 epochs took 570 seconds\n",
      "convergence after 20 epochs took 574 seconds\n",
      "convergence after 24 epochs took 387 seconds\n",
      "convergence after 19 epochs took 569 seconds\n",
      "convergence after 18 epochs took 530 seconds\n",
      "convergence after 17 epochs took 454 seconds\n",
      "convergence after 19 epochs took 560 seconds\n",
      "max_iter reached after 753 seconds\n"
     ]
    },
    {
     "name": "stderr",
     "output_type": "stream",
     "text": [
      "C:\\Users\\sawi8\\anaconda3\\lib\\site-packages\\sklearn\\linear_model\\_sag.py:328: ConvergenceWarning: The max_iter was reached which means the coef_ did not converge\n",
      "  warnings.warn(\"The max_iter was reached which means \"\n"
     ]
    },
    {
     "name": "stdout",
     "output_type": "stream",
     "text": [
      "convergence after 18 epochs took 457 seconds\n",
      "convergence after 18 epochs took 491 seconds\n",
      "convergence after 21 epochs took 605 seconds\n",
      "convergence after 19 epochs took 443 seconds\n",
      "convergence after 16 epochs took 477 seconds\n",
      "convergence after 19 epochs took 628 seconds\n",
      "max_iter reached after 925 seconds\n"
     ]
    },
    {
     "name": "stderr",
     "output_type": "stream",
     "text": [
      "C:\\Users\\sawi8\\anaconda3\\lib\\site-packages\\sklearn\\linear_model\\_sag.py:328: ConvergenceWarning: The max_iter was reached which means the coef_ did not converge\n",
      "  warnings.warn(\"The max_iter was reached which means \"\n"
     ]
    },
    {
     "name": "stdout",
     "output_type": "stream",
     "text": [
      "convergence after 21 epochs took 595 seconds\n"
     ]
    },
    {
     "name": "stderr",
     "output_type": "stream",
     "text": [
      "[Parallel(n_jobs=-1)]: Done  21 out of  21 | elapsed: 51.5min finished\n"
     ]
    },
    {
     "data": {
      "text/plain": [
       "LogisticRegression(l1_ratio=0.5, multi_class='ovr', n_jobs=-1,\n",
       "                   penalty='elasticnet', solver='saga', verbose=3)"
      ]
     },
     "execution_count": 10,
     "metadata": {},
     "output_type": "execute_result"
    }
   ],
   "source": [
    "lr = LogisticRegression(verbose=3, multi_class='ovr', penalty=\"elasticnet\", solver=\"saga\", l1_ratio=0.5, n_jobs=-1)\n",
    "# lr.fit(X_train.toarray(), y_train.idxmax(axis=1))\n",
    "lr.fit(X_train, y_train.idxmax(axis=1))"
   ]
  },
  {
   "cell_type": "code",
   "execution_count": 11,
   "id": "a11a0c37",
   "metadata": {},
   "outputs": [
    {
     "name": "stdout",
     "output_type": "stream",
     "text": [
      "0.7019974226804123\n",
      "0.7020711340206186\n"
     ]
    }
   ],
   "source": [
    "# Top 20 per language gets accuracy ~33%\n",
    "# Top 200 total gets accuracy ~57%\n",
    "# Top 2000 total (with some better regex for code tokens) gets 70% on the test! Likely an upper bound. \n",
    "print(accuracy_score(y_train.idxmax(axis=1), lr.predict(X_train)))\n",
    "print(accuracy_score(y_test.idxmax(axis=1), lr.predict(X_test)))"
   ]
  },
  {
   "cell_type": "code",
   "execution_count": null,
   "id": "382a7a62",
   "metadata": {},
   "outputs": [],
   "source": []
  }
 ],
 "metadata": {
  "interpreter": {
   "hash": "3095ca178695d52cb9a30602b8a9f2323de433ba6e1e7e64a2aa72572452eef0"
  },
  "kernelspec": {
   "display_name": "Python 3",
   "language": "python",
   "name": "python3"
  },
  "language_info": {
   "codemirror_mode": {
    "name": "ipython",
    "version": 3
   },
   "file_extension": ".py",
   "mimetype": "text/x-python",
   "name": "python",
   "nbconvert_exporter": "python",
   "pygments_lexer": "ipython3",
   "version": "3.8.8"
  }
 },
 "nbformat": 4,
 "nbformat_minor": 5
}
