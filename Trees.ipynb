{
 "cells": [
  {
   "cell_type": "code",
   "execution_count": 1,
   "id": "c6f6dd88",
   "metadata": {},
   "outputs": [],
   "source": [
    "import pandas as pd\n",
    "from scipy.sparse import load_npz\n",
    "from sklearn.model_selection import train_test_split\n",
    "from sklearn.tree import DecisionTreeClassifier\n",
    "from sklearn.linear_model import LogisticRegression\n",
    "from sklearn.metrics import accuracy_score"
   ]
  },
  {
   "cell_type": "code",
   "execution_count": 2,
   "id": "c4890379",
   "metadata": {},
   "outputs": [],
   "source": [
    "X = load_npz(\"X.npz\")\n",
    "y = pd.read_pickle(\"y.pcl\")"
   ]
  },
  {
   "cell_type": "code",
   "execution_count": 3,
   "id": "0f49e9c6",
   "metadata": {},
   "outputs": [],
   "source": [
    "X_train, X_test, y_train, y_test = train_test_split(X, y, test_size=0.2)"
   ]
  },
  {
   "cell_type": "code",
   "execution_count": 15,
   "id": "9e7478c5",
   "metadata": {},
   "outputs": [],
   "source": [
    "dtc = DecisionTreeClassifier()\n",
    "dtc = dtc.fit(X_train.toarray(), y_train)"
   ]
  },
  {
   "cell_type": "code",
   "execution_count": 17,
   "id": "d629a9e5",
   "metadata": {},
   "outputs": [
    {
     "name": "stdout",
     "output_type": "stream",
     "text": [
      "0.44438015463917524\n",
      "0.3196134020618557\n"
     ]
    }
   ],
   "source": [
    "print(accuracy_score(y_train, dtc.predict(X_train.toarray())))\n",
    "print(accuracy_score(y_test, dtc.predict(X_test.toarray())))"
   ]
  },
  {
   "cell_type": "code",
   "execution_count": 4,
   "id": "d3c35287",
   "metadata": {},
   "outputs": [
    {
     "name": "stderr",
     "output_type": "stream",
     "text": [
      "[Parallel(n_jobs=-1)]: Using backend ThreadingBackend with 4 concurrent workers.\n"
     ]
    },
    {
     "name": "stdout",
     "output_type": "stream",
     "text": [
      "convergence after 13 epochs took 154 seconds\n",
      "convergence after 16 epochs took 207 seconds\n",
      "convergence after 18 epochs took 227 seconds\n",
      "convergence after 18 epochs took 233 seconds\n",
      "convergence after 18 epochs took 227 seconds\n",
      "convergence after 15 epochs took 194 seconds\n",
      "convergence after 18 epochs took 240 seconds\n",
      "convergence after 16 epochs took 221 seconds\n",
      "convergence after 15 epochs took 184 seconds\n",
      "convergence after 15 epochs took 187 seconds\n",
      "convergence after 17 epochs took 221 seconds\n",
      "convergence after 18 epochs took 243 seconds\n",
      "convergence after 14 epochs took 168 seconds\n",
      "convergence after 17 epochs took 215 seconds\n",
      "convergence after 15 epochs took 197 seconds\n",
      "convergence after 17 epochs took 229 seconds\n",
      "convergence after 18 epochs took 242 seconds\n",
      "convergence after 15 epochs took 219 seconds\n",
      "convergence after 15 epochs took 239 seconds\n",
      "convergence after 14 epochs took 210 seconds\n",
      "convergence after 19 epochs took 296 seconds\n"
     ]
    },
    {
     "name": "stderr",
     "output_type": "stream",
     "text": [
      "[Parallel(n_jobs=-1)]: Done  21 out of  21 | elapsed: 20.3min finished\n"
     ]
    },
    {
     "data": {
      "text/plain": [
       "LogisticRegression(l1_ratio=0.5, multi_class='ovr', n_jobs=-1,\n",
       "                   penalty='elasticnet', solver='saga', verbose=3)"
      ]
     },
     "execution_count": 4,
     "metadata": {},
     "output_type": "execute_result"
    }
   ],
   "source": [
    "lr = LogisticRegression(verbose=3, multi_class='ovr', penalty=\"elasticnet\", solver=\"saga\", l1_ratio=0.5, n_jobs=-1)\n",
    "lr.fit(X_train.toarray(), y_train.idxmax(axis=1))"
   ]
  },
  {
   "cell_type": "code",
   "execution_count": 6,
   "id": "ac2ddc2c",
   "metadata": {},
   "outputs": [
    {
     "name": "stdout",
     "output_type": "stream",
     "text": [
      "0.4657103092783505\n",
      "0.46538350515463917\n"
     ]
    }
   ],
   "source": [
    "# Default parameters give 0.465 accuracy on both train/test. Warnings that it has not yet converged. \n",
    "# Saga solver with elastic net also results in the same accuracy\n",
    "print(accuracy_score(y_train.idxmax(axis=1), lr.predict(X_train.toarray())))\n",
    "print(accuracy_score(y_test.idxmax(axis=1), lr.predict(X_test.toarray())))"
   ]
  },
  {
   "cell_type": "code",
   "execution_count": null,
   "id": "e8a8ad62",
   "metadata": {},
   "outputs": [],
   "source": []
  }
 ],
 "metadata": {
  "kernelspec": {
   "display_name": "Python 3",
   "language": "python",
   "name": "python3"
  },
  "language_info": {
   "codemirror_mode": {
    "name": "ipython",
    "version": 3
   },
   "file_extension": ".py",
   "mimetype": "text/x-python",
   "name": "python",
   "nbconvert_exporter": "python",
   "pygments_lexer": "ipython3",
   "version": "3.8.8"
  }
 },
 "nbformat": 4,
 "nbformat_minor": 5
}
