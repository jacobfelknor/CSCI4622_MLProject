{
 "cells": [
  {
   "cell_type": "code",
   "execution_count": 10,
   "id": "c6f6dd88",
   "metadata": {},
   "outputs": [],
   "source": [
    "import pandas as pd\n",
    "from scipy.sparse import load_npz\n",
    "from sklearn.model_selection import train_test_split\n",
    "from sklearn.tree import DecisionTreeClassifier\n",
    "from sklearn.metrics import accuracy_score"
   ]
  },
  {
   "cell_type": "code",
   "execution_count": 3,
   "id": "c4890379",
   "metadata": {},
   "outputs": [],
   "source": [
    "X = load_npz(\"X.npz\")\n",
    "y = pd.read_pickle(\"y.pcl\")"
   ]
  },
  {
   "cell_type": "code",
   "execution_count": 6,
   "id": "0f49e9c6",
   "metadata": {},
   "outputs": [],
   "source": [
    "X_train, X_test, y_train, y_test = train_test_split(X, y, test_size=0.2)"
   ]
  },
  {
   "cell_type": "code",
   "execution_count": 15,
   "id": "9e7478c5",
   "metadata": {},
   "outputs": [],
   "source": [
    "dtc = DecisionTreeClassifier()\n",
    "dtc = dtc.fit(X_train.toarray(), y_train)"
   ]
  },
  {
   "cell_type": "code",
   "execution_count": 17,
   "id": "1c7572db",
   "metadata": {},
   "outputs": [
    {
     "name": "stdout",
     "output_type": "stream",
     "text": [
      "0.44438015463917524\n",
      "0.3196134020618557\n"
     ]
    }
   ],
   "source": [
    "print(accuracy_score(y_train, dtc.predict(X_train.toarray())))\n",
    "print(accuracy_score(y_test, dtc.predict(X_test.toarray())))"
   ]
  },
  {
   "cell_type": "code",
   "execution_count": null,
   "id": "d38350a7",
   "metadata": {},
   "outputs": [],
   "source": []
  }
 ],
 "metadata": {
  "kernelspec": {
   "display_name": "Python 3",
   "language": "python",
   "name": "python3"
  },
  "language_info": {
   "codemirror_mode": {
    "name": "ipython",
    "version": 3
   },
   "file_extension": ".py",
   "mimetype": "text/x-python",
   "name": "python",
   "nbconvert_exporter": "python",
   "pygments_lexer": "ipython3",
   "version": "3.8.8"
  }
 },
 "nbformat": 4,
 "nbformat_minor": 5
}
